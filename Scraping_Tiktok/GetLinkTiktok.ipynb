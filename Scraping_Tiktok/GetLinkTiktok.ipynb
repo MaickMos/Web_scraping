{
 "cells": [
  {
   "cell_type": "code",
   "execution_count": 2,
   "metadata": {},
   "outputs": [],
   "source": [
    "from selenium import webdriver\n",
    "from selenium.webdriver.chrome.options import Options\n",
    "import time\n",
    "import requests\n",
    "from urllib.request import urlopen\n",
    "from bs4 import BeautifulSoup\n",
    "import csv\n",
    "#https://www.youtube.com/watch?v=UsT11sOD1JA"
   ]
  },
  {
   "cell_type": "code",
   "execution_count": 3,
   "metadata": {},
   "outputs": [],
   "source": [
    "def GetData(links):\n",
    "    className = \"tiktok-41hm0z\"\n",
    "    descript=BeautifulSoup(driver.page_source, \"html.parser\")\n",
    "    findas = descript.find_all(\"img\", {\"class\":className})\n",
    "    soup = descript.img[\"alt\"]\n",
    "\n",
    "    print(findas)\n",
    "    print(\"////////////////////////////////////////////////////\")\n",
    "    print(soup)"
   ]
  },
  {
   "cell_type": "code",
   "execution_count": 5,
   "metadata": {},
   "outputs": [],
   "source": [
    "\n",
    "def GetLinksTiktoks(link_cole):\n",
    "    driver = webdriver.Chrome()\n",
    "\n",
    "    # Change the tiktok link\n",
    "    driver.get(link_cole)\n",
    "    # IF YOU GET A TIKTOK CAPTCHA, CHANGE THE TIMEOUT HERE\n",
    "    # to 60 seconds, just enough time for you to complete the captcha yourself.\n",
    "    time.sleep(1)\n",
    "\n",
    "    screen_height = driver.execute_script(\"return window.screen.height;\")\n",
    "    i = 1\n",
    "\n",
    "    while True:\n",
    "        driver.execute_script(\"window.scrollTo(0, {screen_height}*{i});\".format(screen_height=screen_height, i=i))  \n",
    "        i += 1\n",
    "        time.sleep(1)\n",
    "        scroll_height = driver.execute_script(\"return document.body.scrollHeight;\")  \n",
    "        if (screen_height) * (i-1) > scroll_height:\n",
    "            break\n",
    "    time.sleep(1)\n",
    "\n",
    "    # this class may change, so make sure to inspect the page and find the correct class\n",
    "    #LINK\n",
    "    className = \"tiktok-c83ctf-DivWrapper\"\n",
    "    script  = \"let l = [];\"\n",
    "    script += \"document.getElementsByClassName(\\\"\"\n",
    "    script += className\n",
    "    script += \"\\\").forEach(item => { l.push(item.querySelector('a').href)});\"\n",
    "    script += \"return l;\"\n",
    "    urlsToDownload = driver.execute_script(script)\n",
    "    print(f\"Found {len(urlsToDownload)} videos\")\n",
    "    return urlsToDownload"
   ]
  },
  {
   "cell_type": "code",
   "execution_count": 6,
   "metadata": {},
   "outputs": [],
   "source": [
    "def SaveData(num,name,link_cole,linkstiktok,archivo_csv):\n",
    "    with open(archivo_csv, mode='a', newline='', encoding='utf-8') as file:\n",
    "        writer = csv.writer(file)\n",
    "        for i,link in enumerate(linkstiktok):\n",
    "            writer.writerow([num+str(i).zfill(3),str(i).zfill(3),name,link])"
   ]
  },
  {
   "cell_type": "code",
   "execution_count": 8,
   "metadata": {},
   "outputs": [
    {
     "name": "stdout",
     "output_type": "stream",
     "text": [
      "Pa pensarlo\n",
      "Found 89 videos\n"
     ]
    }
   ],
   "source": [
    "Cabecera=True\n",
    "totalvideos = []\n",
    "# Abrir el archivo y leer sus líneas\n",
    "with open(\"Link_cole.txt\", mode='r', encoding='utf-8') as file:\n",
    "    lines = file.readlines()\n",
    "for line in lines:\n",
    "    try:\n",
    "        Cabecerasub=True\n",
    "        num_cole, name_cole, link_cole = line.strip().split(',')\n",
    "        print(name_cole)\n",
    "        linkstiktok=GetLinksTiktoks(link_cole)\n",
    "        totalvideos.append(name_cole+\";\"+str(len(linkstiktok)))\n",
    "        #Save in main Database \n",
    "        with open(\"Links/LinksTikToks.csv\", mode='a', newline='', encoding='utf-8') as file:\n",
    "            writer = csv.writer(file)\n",
    "        # Escribir la cabecera\n",
    "            if Cabecera:\n",
    "                writer.writerow([\"ID_global\",\"ID_colleccion\",\"Name_Collecion\",\"Link\"])\n",
    "            Cabecera=False\n",
    "        SaveData(num_cole,name_cole,link_cole,linkstiktok,\"Links/LinksTikToks.csv\")\n",
    "        #Save in sub-Database\n",
    "        with open(f\"Links/LinksTikToks{name_cole}.csv\", mode='a', newline='', encoding='utf-8') as file:\n",
    "            writer = csv.writer(file)\n",
    "        # Escribir la cabecera\n",
    "            if Cabecerasub:\n",
    "                writer.writerow([\"ID_global\",\"ID_colleccion\",\"Name_Collecion\",\"Link\"])\n",
    "            Cabecerasub=False\n",
    "        SaveData(num_cole,name_cole,link_cole,linkstiktok,f\"Links/LinksTikToks{name_cole}.csv\")\n",
    "    except:\n",
    "        with open(\"Links/Error.csv\", mode='a', newline='', encoding='utf-8') as file:\n",
    "            writer = csv.writer(file)\n",
    "            writer.writerow(f\"error en coleccion: {name_cole}\")\n",
    "\n",
    "with open(\"Links/Total_links.csv\", mode='a', newline='', encoding='utf-8') as file:\n",
    "        writer = csv.writer(file)\n",
    "    # Escribir la cabecera\n",
    "        writer.writerow(totalvideos)\n",
    "\n"
   ]
  }
 ],
 "metadata": {
  "kernelspec": {
   "display_name": "Python 3",
   "language": "python",
   "name": "python3"
  },
  "language_info": {
   "codemirror_mode": {
    "name": "ipython",
    "version": 3
   },
   "file_extension": ".py",
   "mimetype": "text/x-python",
   "name": "python",
   "nbconvert_exporter": "python",
   "pygments_lexer": "ipython3",
   "version": "3.11.3"
  },
  "orig_nbformat": 4
 },
 "nbformat": 4,
 "nbformat_minor": 2
}
